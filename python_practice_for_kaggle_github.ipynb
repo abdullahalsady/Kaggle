{
 "cells": [
  {
   "cell_type": "markdown",
   "id": "5e5cb2d5",
   "metadata": {},
   "source": [
    "# 🐍 Python Practice Notebook\n",
    "This notebook is designed for basic Python practice. You can upload it to GitHub and import it to Kaggle to earn the **GitHub Coder** badge."
   ]
  },
  {
   "cell_type": "code",
   "execution_count": null,
   "id": "d57b1043",
   "metadata": {},
   "outputs": [],
   "source": [
    "# Basic arithmetic\n",
    "print('Addition:', 3 + 4)\n",
    "print('Multiplication:', 3 * 4)\n",
    "print('Division:', 10 / 2)"
   ]
  },
  {
   "cell_type": "code",
   "execution_count": null,
   "id": "a451ee9b",
   "metadata": {},
   "outputs": [],
   "source": [
    "# Working with lists\n",
    "fruits = ['apple', 'banana', 'cherry']\n",
    "for fruit in fruits:\n",
    "    print(fruit.upper())"
   ]
  },
  {
   "cell_type": "code",
   "execution_count": null,
   "id": "fed82b0d",
   "metadata": {},
   "outputs": [],
   "source": [
    "# Defining a function\n",
    "def greet(name):\n",
    "    return f'Hello, {name}!'\n",
    "\n",
    "print(greet('Kaggle Learner'))"
   ]
  },
  {
   "cell_type": "code",
   "execution_count": null,
   "id": "b9ddf615",
   "metadata": {},
   "outputs": [],
   "source": [
    "# Using pandas to create a DataFrame\n",
    "import pandas as pd\n",
    "data = {'Name': ['Alice', 'Bob', 'Charlie'], 'Age': [25, 30, 35]}\n",
    "df = pd.DataFrame(data)\n",
    "df"
   ]
  },
  {
   "cell_type": "code",
   "execution_count": null,
   "id": "928534b8",
   "metadata": {},
   "outputs": [],
   "source": [
    "# Simple plot using matplotlib\n",
    "import matplotlib.pyplot as plt\n",
    "plt.plot([1, 2, 3, 4], [10, 20, 25, 30])\n",
    "plt.title('Sample Plot')\n",
    "plt.xlabel('X-axis')\n",
    "plt.ylabel('Y-axis')\n",
    "plt.show()"
   ]
  }
 ],
 "metadata": {},
 "nbformat": 4,
 "nbformat_minor": 5
}